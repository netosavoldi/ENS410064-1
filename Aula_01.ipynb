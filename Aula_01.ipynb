{
 "cells": [
  {
   "cell_type": "markdown",
   "id": "21db448b-d9cd-401e-b509-e1dc773980ca",
   "metadata": {},
   "source": [
    "# Título"
   ]
  },
  {
   "cell_type": "code",
   "execution_count": 3,
   "id": "6432e093-60d2-43b6-a92d-dc7334682b5a",
   "metadata": {},
   "outputs": [
    {
     "ename": "SyntaxError",
     "evalue": "incomplete input (3322652051.py, line 7)",
     "output_type": "error",
     "traceback": [
      "\u001b[1;36m  Cell \u001b[1;32mIn[3], line 7\u001b[1;36m\u001b[0m\n\u001b[1;33m    print ('Names tem o tipo' + str(type(names))\u001b[0m\n\u001b[1;37m                                                ^\u001b[0m\n\u001b[1;31mSyntaxError\u001b[0m\u001b[1;31m:\u001b[0m incomplete input\n"
     ]
    }
   ],
   "source": [
    "## Subtítulo\n",
    "### Comentário\n",
    "str = string\n",
    "names = \"Neto\"\n",
    "print (names)\n",
    "print (type(names))\n",
    "print ('Names tem o tipo' + str(type(names))"
   ]
  },
  {
   "cell_type": "code",
   "execution_count": null,
   "id": "2a54e807-0717-4b64-b79d-3dfa4f10801d",
   "metadata": {},
   "outputs": [],
   "source": []
  }
 ],
 "metadata": {
  "kernelspec": {
   "display_name": "Python 3 (ipykernel)",
   "language": "python",
   "name": "python3"
  },
  "language_info": {
   "codemirror_mode": {
    "name": "ipython",
    "version": 3
   },
   "file_extension": ".py",
   "mimetype": "text/x-python",
   "name": "python",
   "nbconvert_exporter": "python",
   "pygments_lexer": "ipython3",
   "version": "3.11.5"
  }
 },
 "nbformat": 4,
 "nbformat_minor": 5
}
