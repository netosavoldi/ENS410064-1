{
 "cells": [
  {
   "cell_type": "markdown",
   "id": "466ddee9-56a3-4e45-a825-92e3b953e587",
   "metadata": {},
   "source": [
    "## Atividade 02\n",
    "### 1. How To Isolate Trend, Seasonality And Noise From A Time Series\n"
   ]
  },
  {
   "cell_type": "code",
   "execution_count": null,
   "id": "96593ad7-dea7-4b69-bef4-ba4b1695e887",
   "metadata": {},
   "outputs": [],
   "source": []
  },
  {
   "cell_type": "markdown",
   "id": "f98aaee2-f17c-4058-8196-d322c7d581ab",
   "metadata": {},
   "source": [
    "### 2. The White Noise Mode"
   ]
  },
  {
   "cell_type": "code",
   "execution_count": 1,
   "id": "284a6400-834f-4544-900a-58fbeafbb633",
   "metadata": {},
   "outputs": [],
   "source": [
    "\n",
    "import pandas as pd\n",
    "import numpy as np\n",
    "import math\n",
    "from matplotlib import pyplot as plt"
   ]
  },
  {
   "cell_type": "code",
   "execution_count": 48,
   "id": "3b707003-1fe8-4c0d-88b9-8c9215507016",
   "metadata": {},
   "outputs": [
    {
     "data": {
      "text/html": [
       "<div>\n",
       "<style scoped>\n",
       "    .dataframe tbody tr th:only-of-type {\n",
       "        vertical-align: middle;\n",
       "    }\n",
       "\n",
       "    .dataframe tbody tr th {\n",
       "        vertical-align: top;\n",
       "    }\n",
       "\n",
       "    .dataframe thead th {\n",
       "        text-align: right;\n",
       "    }\n",
       "</style>\n",
       "<table border=\"1\" class=\"dataframe\">\n",
       "  <thead>\n",
       "    <tr style=\"text-align: right;\">\n",
       "      <th></th>\n",
       "      <th>prec</th>\n",
       "      <th>temp</th>\n",
       "      <th>q</th>\n",
       "      <th>flow</th>\n",
       "      <th>p1</th>\n",
       "      <th>p2</th>\n",
       "    </tr>\n",
       "    <tr>\n",
       "      <th>date</th>\n",
       "      <th></th>\n",
       "      <th></th>\n",
       "      <th></th>\n",
       "      <th></th>\n",
       "      <th></th>\n",
       "      <th></th>\n",
       "    </tr>\n",
       "  </thead>\n",
       "  <tbody>\n",
       "    <tr>\n",
       "      <th>3/1/2010</th>\n",
       "      <td>137.5</td>\n",
       "      <td>23.977419</td>\n",
       "      <td>132.1334</td>\n",
       "      <td>3.058648</td>\n",
       "      <td>247.9</td>\n",
       "      <td>27.2</td>\n",
       "    </tr>\n",
       "    <tr>\n",
       "      <th>4/1/2010</th>\n",
       "      <td>42.5</td>\n",
       "      <td>22.410000</td>\n",
       "      <td>114.1101</td>\n",
       "      <td>2.729490</td>\n",
       "      <td>85.1</td>\n",
       "      <td>NaN</td>\n",
       "    </tr>\n",
       "    <tr>\n",
       "      <th>5/1/2010</th>\n",
       "      <td>72.5</td>\n",
       "      <td>20.785806</td>\n",
       "      <td>94.0366</td>\n",
       "      <td>2.176752</td>\n",
       "      <td>26.8</td>\n",
       "      <td>117.9</td>\n",
       "    </tr>\n",
       "    <tr>\n",
       "      <th>6/1/2010</th>\n",
       "      <td>52.5</td>\n",
       "      <td>18.384000</td>\n",
       "      <td>78.3973</td>\n",
       "      <td>1.875240</td>\n",
       "      <td>0.8</td>\n",
       "      <td>104.3</td>\n",
       "    </tr>\n",
       "    <tr>\n",
       "      <th>7/1/2010</th>\n",
       "      <td>117.1</td>\n",
       "      <td>19.756129</td>\n",
       "      <td>72.7495</td>\n",
       "      <td>1.684023</td>\n",
       "      <td>NaN</td>\n",
       "      <td>234.7</td>\n",
       "    </tr>\n",
       "    <tr>\n",
       "      <th>8/1/2010</th>\n",
       "      <td>71.2</td>\n",
       "      <td>20.072258</td>\n",
       "      <td>65.4181</td>\n",
       "      <td>1.514310</td>\n",
       "      <td>NaN</td>\n",
       "      <td>143.9</td>\n",
       "    </tr>\n",
       "    <tr>\n",
       "      <th>9/1/2010</th>\n",
       "      <td>151.2</td>\n",
       "      <td>21.549333</td>\n",
       "      <td>62.3261</td>\n",
       "      <td>1.490837</td>\n",
       "      <td>71.0</td>\n",
       "      <td>231.4</td>\n",
       "    </tr>\n",
       "    <tr>\n",
       "      <th>10/1/2010</th>\n",
       "      <td>131.3</td>\n",
       "      <td>22.430968</td>\n",
       "      <td>79.0101</td>\n",
       "      <td>1.828932</td>\n",
       "      <td>216.6</td>\n",
       "      <td>45.6</td>\n",
       "    </tr>\n",
       "    <tr>\n",
       "      <th>11/1/2010</th>\n",
       "      <td>213.5</td>\n",
       "      <td>22.009333</td>\n",
       "      <td>167.1076</td>\n",
       "      <td>3.997177</td>\n",
       "      <td>396.6</td>\n",
       "      <td>30.0</td>\n",
       "    </tr>\n",
       "    <tr>\n",
       "      <th>12/1/2010</th>\n",
       "      <td>212.4</td>\n",
       "      <td>24.095484</td>\n",
       "      <td>231.6618</td>\n",
       "      <td>5.362552</td>\n",
       "      <td>293.2</td>\n",
       "      <td>131.4</td>\n",
       "    </tr>\n",
       "  </tbody>\n",
       "</table>\n",
       "</div>"
      ],
      "text/plain": [
       "            prec       temp         q      flow     p1     p2\n",
       "date                                                         \n",
       "3/1/2010   137.5  23.977419  132.1334  3.058648  247.9   27.2\n",
       "4/1/2010    42.5  22.410000  114.1101  2.729490   85.1    NaN\n",
       "5/1/2010    72.5  20.785806   94.0366  2.176752   26.8  117.9\n",
       "6/1/2010    52.5  18.384000   78.3973  1.875240    0.8  104.3\n",
       "7/1/2010   117.1  19.756129   72.7495  1.684023    NaN  234.7\n",
       "8/1/2010    71.2  20.072258   65.4181  1.514310    NaN  143.9\n",
       "9/1/2010   151.2  21.549333   62.3261  1.490837   71.0  231.4\n",
       "10/1/2010  131.3  22.430968   79.0101  1.828932  216.6   45.6\n",
       "11/1/2010  213.5  22.009333  167.1076  3.997177  396.6   30.0\n",
       "12/1/2010  212.4  24.095484  231.6618  5.362552  293.2  131.4"
      ]
     },
     "execution_count": 48,
     "metadata": {},
     "output_type": "execute_result"
    }
   ],
   "source": [
    "mydateparser = lambda x: pd.datetime.strptime(x, '%d-%m-%y')\n",
    " \n",
    "df = pd.read_csv('C:/Users/Windows 10/Documents/Python/ENS410064-1/scripts/atividade_02_brutos.csv', header=0, index_col=[0])\n",
    "df.head(10)"
   ]
  },
  {
   "cell_type": "code",
   "execution_count": 49,
   "id": "b33c242d-a92d-436e-9b3c-0284dbf5fe1f",
   "metadata": {},
   "outputs": [],
   "source": [
    "import statsmodels.graphics.tsaplots as tsa\n",
    "\n",
    "\n"
   ]
  },
  {
   "cell_type": "markdown",
   "id": "72a63556-44e1-42d1-bc40-7128aa0f0501",
   "metadata": {},
   "source": [
    "### 3. The Assumptions Of Linear Regression, And How To Test Them"
   ]
  },
  {
   "cell_type": "code",
   "execution_count": 15,
   "id": "ac26ca6c-3134-44e4-b7f0-5e804440bb78",
   "metadata": {},
   "outputs": [],
   "source": [
    "from patsy import dmatrices\n"
   ]
  },
  {
   "cell_type": "code",
   "execution_count": 39,
   "id": "4f4fbd43-315b-4d6f-81b9-47516a2f1757",
   "metadata": {},
   "outputs": [],
   "source": [
    "df = pd.read_csv('C:/Users/Windows 10/Documents/Python/ENS410064-1/scripts/atividade_02_brutos_float.csv', header=0)\n"
   ]
  },
  {
   "cell_type": "code",
   "execution_count": 50,
   "id": "9c4e5d2c-b56b-4d3a-afec-98364db3609e",
   "metadata": {},
   "outputs": [
    {
     "data": {
      "image/png": "[encoded data removed]",
      "text/plain": [
       "<Figure size 640x480 with 1 Axes>"
      ]
     },
     "metadata": {},
     "output_type": "display_data"
    },
    {
     "data": {
      "text/plain": [
       "prec    1.000000\n",
       "temp    0.522479\n",
       "q       0.546052\n",
       "flow    0.541548\n",
       "p1      0.806861\n",
       "p2      0.342626\n",
       "Name: prec, dtype: float64"
      ]
     },
     "execution_count": 50,
     "metadata": {},
     "output_type": "execute_result"
    }
   ],
   "source": [
    "df.plot.scatter(x='prec', y='flow')\n",
    "plt.xlabel('prec', fontsize=18)\n",
    "plt.ylabel('flow', fontsize=18)\n",
    "plt.show()\n",
    "df.corr()['prec']\n"
   ]
  },
  {
   "cell_type": "code",
   "execution_count": 58,
   "id": "789cb2bf-e641-4d0c-88a2-70380653db80",
   "metadata": {},
   "outputs": [
    {
     "ename": "PatsyError",
     "evalue": "model is missing required outcome variables",
     "output_type": "error",
     "traceback": [
      "\u001b[1;31m---------------------------------------------------------------------------\u001b[0m",
      "\u001b[1;31mPatsyError\u001b[0m                                Traceback (most recent call last)",
      "Cell \u001b[1;32mIn[58], line 3\u001b[0m\n\u001b[0;32m      1\u001b[0m \u001b[38;5;66;03m## Estava dando erro por a Data estava em formato STR, tive que mudar no próprio arquivo csv para um dado float\u001b[39;00m\n\u001b[0;32m      2\u001b[0m model_expr \u001b[38;5;241m=\u001b[39m \u001b[38;5;124m'\u001b[39m\u001b[38;5;124mprec + flow\u001b[39m\u001b[38;5;124m'\u001b[39m\n\u001b[1;32m----> 3\u001b[0m y, x \u001b[38;5;241m=\u001b[39m \u001b[43mdmatrices\u001b[49m\u001b[43m(\u001b[49m\u001b[43mmodel_expr\u001b[49m\u001b[43m,\u001b[49m\u001b[43m \u001b[49m\u001b[43mdf\u001b[49m\u001b[43m,\u001b[49m\u001b[43m \u001b[49m\u001b[43mreturn_type\u001b[49m\u001b[38;5;241;43m=\u001b[39;49m\u001b[38;5;124;43m'\u001b[39;49m\u001b[38;5;124;43mdataframe\u001b[39;49m\u001b[38;5;124;43m'\u001b[39;49m\u001b[43m)\u001b[49m\n",
      "File \u001b[1;32m~\\Documents\\Python\\ENS410064-1\\pyenv\\Lib\\site-packages\\patsy\\highlevel.py:312\u001b[0m, in \u001b[0;36mdmatrices\u001b[1;34m(formula_like, data, eval_env, NA_action, return_type)\u001b[0m\n\u001b[0;32m    309\u001b[0m (lhs, rhs) \u001b[38;5;241m=\u001b[39m _do_highlevel_design(formula_like, data, eval_env,\n\u001b[0;32m    310\u001b[0m                                   NA_action, return_type)\n\u001b[0;32m    311\u001b[0m \u001b[38;5;28;01mif\u001b[39;00m lhs\u001b[38;5;241m.\u001b[39mshape[\u001b[38;5;241m1\u001b[39m] \u001b[38;5;241m==\u001b[39m \u001b[38;5;241m0\u001b[39m:\n\u001b[1;32m--> 312\u001b[0m     \u001b[38;5;28;01mraise\u001b[39;00m PatsyError(\u001b[38;5;124m\"\u001b[39m\u001b[38;5;124mmodel is missing required outcome variables\u001b[39m\u001b[38;5;124m\"\u001b[39m)\n\u001b[0;32m    313\u001b[0m \u001b[38;5;28;01mreturn\u001b[39;00m (lhs, rhs)\n",
      "\u001b[1;31mPatsyError\u001b[0m: model is missing required outcome variables"
     ]
    }
   ],
   "source": [
    "## Estava dando erro por a Data estava em formato STR, tive que mudar no próprio arquivo csv para um dado float\n",
    "model_expr = 'prec + flow'\n",
    "y, x = dmatrices(model_expr, df, return_type='dataframe')"
   ]
  },
  {
   "cell_type": "code",
   "execution_count": 56,
   "id": "84a5518d-dc57-427d-b8b4-ccc918e0c3db",
   "metadata": {},
   "outputs": [
    {
     "ename": "PatsyError",
     "evalue": "model is missing required outcome variables",
     "output_type": "error",
     "traceback": [
      "\u001b[1;31m---------------------------------------------------------------------------\u001b[0m",
      "\u001b[1;31mPatsyError\u001b[0m                                Traceback (most recent call last)",
      "Cell \u001b[1;32mIn[56], line 1\u001b[0m\n\u001b[1;32m----> 1\u001b[0m y, X \u001b[38;5;241m=\u001b[39m \u001b[43mdmatrices\u001b[49m\u001b[43m(\u001b[49m\u001b[43mmodel_expr\u001b[49m\u001b[43m,\u001b[49m\u001b[43m \u001b[49m\u001b[43mdf\u001b[49m\u001b[43m,\u001b[49m\u001b[43m \u001b[49m\u001b[43mreturn_type\u001b[49m\u001b[38;5;241;43m=\u001b[39;49m\u001b[38;5;124;43m'\u001b[39;49m\u001b[38;5;124;43mdataframe\u001b[39;49m\u001b[38;5;124;43m'\u001b[39;49m\u001b[43m)\u001b[49m\n",
      "File \u001b[1;32m~\\Documents\\Python\\ENS410064-1\\pyenv\\Lib\\site-packages\\patsy\\highlevel.py:312\u001b[0m, in \u001b[0;36mdmatrices\u001b[1;34m(formula_like, data, eval_env, NA_action, return_type)\u001b[0m\n\u001b[0;32m    309\u001b[0m (lhs, rhs) \u001b[38;5;241m=\u001b[39m _do_highlevel_design(formula_like, data, eval_env,\n\u001b[0;32m    310\u001b[0m                                   NA_action, return_type)\n\u001b[0;32m    311\u001b[0m \u001b[38;5;28;01mif\u001b[39;00m lhs\u001b[38;5;241m.\u001b[39mshape[\u001b[38;5;241m1\u001b[39m] \u001b[38;5;241m==\u001b[39m \u001b[38;5;241m0\u001b[39m:\n\u001b[1;32m--> 312\u001b[0m     \u001b[38;5;28;01mraise\u001b[39;00m PatsyError(\u001b[38;5;124m\"\u001b[39m\u001b[38;5;124mmodel is missing required outcome variables\u001b[39m\u001b[38;5;124m\"\u001b[39m)\n\u001b[0;32m    313\u001b[0m \u001b[38;5;28;01mreturn\u001b[39;00m (lhs, rhs)\n",
      "\u001b[1;31mPatsyError\u001b[0m: model is missing required outcome variables"
     ]
    }
   ],
   "source": []
  },
  {
   "cell_type": "code",
   "execution_count": null,
   "id": "07398ebb-aeb3-4ab9-923d-2b4fca614e17",
   "metadata": {},
   "outputs": [],
   "source": []
  }
 ],
 "metadata": {
  "kernelspec": {
   "display_name": "Python 3 (ipykernel)",
   "language": "python",
   "name": "python3"
  },
  "language_info": {
   "codemirror_mode": {
    "name": "ipython",
    "version": 3
   },
   "file_extension": ".py",
   "mimetype": "text/x-python",
   "name": "python",
   "nbconvert_exporter": "python",
   "pygments_lexer": "ipython3",
   "version": "3.11.5"
  }
 },
 "nbformat": 4,
 "nbformat_minor": 5
}
