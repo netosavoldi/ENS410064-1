{
 "cells": [
  {
   "cell_type": "markdown",
   "id": "cd2d1cac-de11-4015-b84c-8cb1bbe03c15",
   "metadata": {},
   "source": [
    "# Análise de dados no espaço\n"
   ]
  },
  {
   "cell_type": "code",
   "execution_count": 4,
   "id": "40627624-45d0-4ff1-9ccc-4bfda7f674a7",
   "metadata": {},
   "outputs": [],
   "source": [
    "import geopandas as gpd\n",
    "import matplotlib.pyplot as plt"
   ]
  },
  {
   "cell_type": "code",
   "execution_count": 18,
   "id": "caa5f3e6-1fed-4458-9034-cafb281b3eee",
   "metadata": {},
   "outputs": [],
   "source": [
    "riomeio= gpd.read_file('C:/Users/Windows 10/Desktop/GIS/rio_do_meio/sub_bacias_rio_meio.shp')"
   ]
  },
  {
   "cell_type": "code",
   "execution_count": 19,
   "id": "00b03ab7-4260-496c-81e5-859c8ea88b64",
   "metadata": {},
   "outputs": [
    {
     "data": {
      "text/plain": [
       "<Axes: >"
      ]
     },
     "execution_count": 19,
     "metadata": {},
     "output_type": "execute_result"
    },
    {
     "data": {
      "image/png": "[encoded data removed]",
      "text/plain": [
       "<Figure size 640x480 with 1 Axes>"
      ]
     },
     "metadata": {},
     "output_type": "display_data"
    }
   ],
   "source": [
    "riomeio.plot()"
   ]
  },
  {
   "cell_type": "code",
   "execution_count": 20,
   "id": "eab7e375-75b3-47de-87e4-e2a80cc7c3c3",
   "metadata": {},
   "outputs": [
    {
     "data": {
      "text/html": [
       "<div>\n",
       "<style scoped>\n",
       "    .dataframe tbody tr th:only-of-type {\n",
       "        vertical-align: middle;\n",
       "    }\n",
       "\n",
       "    .dataframe tbody tr th {\n",
       "        vertical-align: top;\n",
       "    }\n",
       "\n",
       "    .dataframe thead th {\n",
       "        text-align: right;\n",
       "    }\n",
       "</style>\n",
       "<table border=\"1\" class=\"dataframe\">\n",
       "  <thead>\n",
       "    <tr style=\"text-align: right;\">\n",
       "      <th></th>\n",
       "      <th>Name</th>\n",
       "      <th>descriptio</th>\n",
       "      <th>timestamp</th>\n",
       "      <th>begin</th>\n",
       "      <th>end</th>\n",
       "      <th>altitudeMo</th>\n",
       "      <th>tessellate</th>\n",
       "      <th>extrude</th>\n",
       "      <th>visibility</th>\n",
       "      <th>drawOrder</th>\n",
       "      <th>icon</th>\n",
       "      <th>geometry</th>\n",
       "    </tr>\n",
       "  </thead>\n",
       "  <tbody>\n",
       "    <tr>\n",
       "      <th>0</th>\n",
       "      <td>Sub-Bacia 3 - Rio do Meio - Exutório</td>\n",
       "      <td>NaN</td>\n",
       "      <td>NaN</td>\n",
       "      <td>NaN</td>\n",
       "      <td>NaN</td>\n",
       "      <td>NaN</td>\n",
       "      <td>-1</td>\n",
       "      <td>0</td>\n",
       "      <td>-1</td>\n",
       "      <td>NaN</td>\n",
       "      <td>NaN</td>\n",
       "      <td>POLYGON Z ((-48.51610 -27.59331 0.00000, -48.5...</td>\n",
       "    </tr>\n",
       "    <tr>\n",
       "      <th>1</th>\n",
       "      <td>Sub-Bacia 2 - Córrego Carvoeira e Serrinha</td>\n",
       "      <td>NaN</td>\n",
       "      <td>NaN</td>\n",
       "      <td>NaN</td>\n",
       "      <td>NaN</td>\n",
       "      <td>NaN</td>\n",
       "      <td>-1</td>\n",
       "      <td>0</td>\n",
       "      <td>-1</td>\n",
       "      <td>NaN</td>\n",
       "      <td>NaN</td>\n",
       "      <td>POLYGON Z ((-48.53213 -27.59101 0.00000, -48.5...</td>\n",
       "    </tr>\n",
       "    <tr>\n",
       "      <th>2</th>\n",
       "      <td>Sub-Bacia 1 - Rio do Meio - Montante</td>\n",
       "      <td>NaN</td>\n",
       "      <td>NaN</td>\n",
       "      <td>NaN</td>\n",
       "      <td>NaN</td>\n",
       "      <td>NaN</td>\n",
       "      <td>-1</td>\n",
       "      <td>0</td>\n",
       "      <td>-1</td>\n",
       "      <td>NaN</td>\n",
       "      <td>NaN</td>\n",
       "      <td>POLYGON Z ((-48.51814 -27.60026 0.00000, -48.5...</td>\n",
       "    </tr>\n",
       "  </tbody>\n",
       "</table>\n",
       "</div>"
      ],
      "text/plain": [
       "                                         Name  descriptio  timestamp  begin  \\\n",
       "0        Sub-Bacia 3 - Rio do Meio - Exutório         NaN        NaN    NaN   \n",
       "1  Sub-Bacia 2 - Córrego Carvoeira e Serrinha         NaN        NaN    NaN   \n",
       "2        Sub-Bacia 1 - Rio do Meio - Montante         NaN        NaN    NaN   \n",
       "\n",
       "   end  altitudeMo  tessellate  extrude  visibility  drawOrder  icon  \\\n",
       "0  NaN         NaN          -1        0          -1        NaN   NaN   \n",
       "1  NaN         NaN          -1        0          -1        NaN   NaN   \n",
       "2  NaN         NaN          -1        0          -1        NaN   NaN   \n",
       "\n",
       "                                            geometry  \n",
       "0  POLYGON Z ((-48.51610 -27.59331 0.00000, -48.5...  \n",
       "1  POLYGON Z ((-48.53213 -27.59101 0.00000, -48.5...  \n",
       "2  POLYGON Z ((-48.51814 -27.60026 0.00000, -48.5...  "
      ]
     },
     "execution_count": 20,
     "metadata": {},
     "output_type": "execute_result"
    }
   ],
   "source": [
    "riomeio"
   ]
  },
  {
   "cell_type": "code",
   "execution_count": 21,
   "id": "f339280e-9c70-4289-a25b-3547dff9744e",
   "metadata": {},
   "outputs": [
    {
     "ename": "ImportError",
     "evalue": "The 'folium', 'matplotlib' and 'mapclassify' packages are required for 'explore()'. You can install them using 'conda install -c conda-forge folium matplotlib mapclassify' or 'pip install folium matplotlib mapclassify'.",
     "output_type": "error",
     "traceback": [
      "\u001b[1;31m---------------------------------------------------------------------------\u001b[0m",
      "\u001b[1;31mModuleNotFoundError\u001b[0m                       Traceback (most recent call last)",
      "File \u001b[1;32m~\\Documents\\Python\\ENS410064-1\\pyenv\\Lib\\site-packages\\geopandas\\explore.py:287\u001b[0m, in \u001b[0;36m_explore\u001b[1;34m(df, column, cmap, color, m, tiles, attr, tooltip, popup, highlight, categorical, legend, scheme, k, vmin, vmax, width, height, categories, classification_kwds, control_scale, marker_type, marker_kwds, style_kwds, highlight_kwds, missing_kwds, tooltip_kwds, popup_kwds, legend_kwds, map_kwds, **kwargs)\u001b[0m\n\u001b[0;32m    286\u001b[0m \u001b[38;5;28;01mimport\u001b[39;00m \u001b[38;5;21;01mmatplotlib\u001b[39;00m\u001b[38;5;21;01m.\u001b[39;00m\u001b[38;5;21;01mpyplot\u001b[39;00m \u001b[38;5;28;01mas\u001b[39;00m \u001b[38;5;21;01mplt\u001b[39;00m\n\u001b[1;32m--> 287\u001b[0m \u001b[38;5;28;01mfrom\u001b[39;00m \u001b[38;5;21;01mmapclassify\u001b[39;00m \u001b[38;5;28;01mimport\u001b[39;00m classify\n\u001b[0;32m    289\u001b[0m \u001b[38;5;66;03m# isolate MPL version - GH#2596\u001b[39;00m\n",
      "\u001b[1;31mModuleNotFoundError\u001b[0m: No module named 'mapclassify'",
      "\nDuring handling of the above exception, another exception occurred:\n",
      "\u001b[1;31mImportError\u001b[0m                               Traceback (most recent call last)",
      "Cell \u001b[1;32mIn[21], line 1\u001b[0m\n\u001b[1;32m----> 1\u001b[0m \u001b[43mriomeio\u001b[49m\u001b[43m[\u001b[49m\u001b[43mriomeio\u001b[49m\u001b[43m[\u001b[49m\u001b[38;5;124;43m'\u001b[39;49m\u001b[38;5;124;43mName\u001b[39;49m\u001b[38;5;124;43m'\u001b[39;49m\u001b[43m]\u001b[49m\u001b[38;5;241;43m==\u001b[39;49m\u001b[38;5;124;43m'\u001b[39;49m\u001b[38;5;124;43mSub-Bacia 1 - Rio do Meio - Montante\u001b[39;49m\u001b[38;5;124;43m'\u001b[39;49m\u001b[43m]\u001b[49m\u001b[38;5;241;43m.\u001b[39;49m\u001b[43mexplore\u001b[49m\u001b[43m(\u001b[49m\u001b[43m)\u001b[49m\n",
      "File \u001b[1;32m~\\Documents\\Python\\ENS410064-1\\pyenv\\Lib\\site-packages\\geopandas\\geodataframe.py:2113\u001b[0m, in \u001b[0;36mGeoDataFrame.explore\u001b[1;34m(self, *args, **kwargs)\u001b[0m\n\u001b[0;32m   2111\u001b[0m \u001b[38;5;129m@doc\u001b[39m(_explore)\n\u001b[0;32m   2112\u001b[0m \u001b[38;5;28;01mdef\u001b[39;00m \u001b[38;5;21mexplore\u001b[39m(\u001b[38;5;28mself\u001b[39m, \u001b[38;5;241m*\u001b[39margs, \u001b[38;5;241m*\u001b[39m\u001b[38;5;241m*\u001b[39mkwargs):\n\u001b[1;32m-> 2113\u001b[0m     \u001b[38;5;28;01mreturn\u001b[39;00m \u001b[43m_explore\u001b[49m\u001b[43m(\u001b[49m\u001b[38;5;28;43mself\u001b[39;49m\u001b[43m,\u001b[49m\u001b[43m \u001b[49m\u001b[38;5;241;43m*\u001b[39;49m\u001b[43margs\u001b[49m\u001b[43m,\u001b[49m\u001b[43m \u001b[49m\u001b[38;5;241;43m*\u001b[39;49m\u001b[38;5;241;43m*\u001b[39;49m\u001b[43mkwargs\u001b[49m\u001b[43m)\u001b[49m\n",
      "File \u001b[1;32m~\\Documents\\Python\\ENS410064-1\\pyenv\\Lib\\site-packages\\geopandas\\explore.py:297\u001b[0m, in \u001b[0;36m_explore\u001b[1;34m(df, column, cmap, color, m, tiles, attr, tooltip, popup, highlight, categorical, legend, scheme, k, vmin, vmax, width, height, categories, classification_kwds, control_scale, marker_type, marker_kwds, style_kwds, highlight_kwds, missing_kwds, tooltip_kwds, popup_kwds, legend_kwds, map_kwds, **kwargs)\u001b[0m\n\u001b[0;32m    294\u001b[0m         \u001b[38;5;28;01mfrom\u001b[39;00m \u001b[38;5;21;01mmatplotlib\u001b[39;00m \u001b[38;5;28;01mimport\u001b[39;00m cm\n\u001b[0;32m    296\u001b[0m \u001b[38;5;28;01mexcept\u001b[39;00m (\u001b[38;5;167;01mImportError\u001b[39;00m, \u001b[38;5;167;01mModuleNotFoundError\u001b[39;00m):\n\u001b[1;32m--> 297\u001b[0m     \u001b[38;5;28;01mraise\u001b[39;00m \u001b[38;5;167;01mImportError\u001b[39;00m(\n\u001b[0;32m    298\u001b[0m         \u001b[38;5;124m\"\u001b[39m\u001b[38;5;124mThe \u001b[39m\u001b[38;5;124m'\u001b[39m\u001b[38;5;124mfolium\u001b[39m\u001b[38;5;124m'\u001b[39m\u001b[38;5;124m, \u001b[39m\u001b[38;5;124m'\u001b[39m\u001b[38;5;124mmatplotlib\u001b[39m\u001b[38;5;124m'\u001b[39m\u001b[38;5;124m and \u001b[39m\u001b[38;5;124m'\u001b[39m\u001b[38;5;124mmapclassify\u001b[39m\u001b[38;5;124m'\u001b[39m\u001b[38;5;124m packages are required for \u001b[39m\u001b[38;5;124m\"\u001b[39m\n\u001b[0;32m    299\u001b[0m         \u001b[38;5;124m\"\u001b[39m\u001b[38;5;124m'\u001b[39m\u001b[38;5;124mexplore()\u001b[39m\u001b[38;5;124m'\u001b[39m\u001b[38;5;124m. You can install them using \u001b[39m\u001b[38;5;124m\"\u001b[39m\n\u001b[0;32m    300\u001b[0m         \u001b[38;5;124m\"\u001b[39m\u001b[38;5;124m'\u001b[39m\u001b[38;5;124mconda install -c conda-forge folium matplotlib mapclassify\u001b[39m\u001b[38;5;124m'\u001b[39m\u001b[38;5;124m \u001b[39m\u001b[38;5;124m\"\u001b[39m\n\u001b[0;32m    301\u001b[0m         \u001b[38;5;124m\"\u001b[39m\u001b[38;5;124mor \u001b[39m\u001b[38;5;124m'\u001b[39m\u001b[38;5;124mpip install folium matplotlib mapclassify\u001b[39m\u001b[38;5;124m'\u001b[39m\u001b[38;5;124m.\u001b[39m\u001b[38;5;124m\"\u001b[39m\n\u001b[0;32m    302\u001b[0m     )\n\u001b[0;32m    304\u001b[0m \u001b[38;5;66;03m# xyservices is an optional dependency\u001b[39;00m\n\u001b[0;32m    305\u001b[0m \u001b[38;5;28;01mtry\u001b[39;00m:\n",
      "\u001b[1;31mImportError\u001b[0m: The 'folium', 'matplotlib' and 'mapclassify' packages are required for 'explore()'. You can install them using 'conda install -c conda-forge folium matplotlib mapclassify' or 'pip install folium matplotlib mapclassify'."
     ]
    }
   ],
   "source": [
    "riomeio[riomeio['Name']=='Sub-Bacia 1 - Rio do Meio - Montante'].explore()"
   ]
  },
  {
   "cell_type": "code",
   "execution_count": null,
   "id": "b1d474f6-b89e-4dcd-b02e-bc99395b881e",
   "metadata": {},
   "outputs": [],
   "source": []
  }
 ],
 "metadata": {
  "kernelspec": {
   "display_name": "Python 3 (ipykernel)",
   "language": "python",
   "name": "python3"
  },
  "language_info": {
   "codemirror_mode": {
    "name": "ipython",
    "version": 3
   },
   "file_extension": ".py",
   "mimetype": "text/x-python",
   "name": "python",
   "nbconvert_exporter": "python",
   "pygments_lexer": "ipython3",
   "version": "3.11.5"
  }
 },
 "nbformat": 4,
 "nbformat_minor": 5
}
