{
 "cells": [
  {
   "cell_type": "markdown",
   "id": "bb747ad0-0231-448f-9861-8d85af4895e3",
   "metadata": {},
   "source": [
    "# Aula 02 - Python "
   ]
  },
  {
   "cell_type": "markdown",
   "id": "5556207b-9613-4bbc-993f-bf67cec37a66",
   "metadata": {},
   "source": [
    "## Dados numéricos \n"
   ]
  },
  {
   "cell_type": "code",
   "execution_count": 6,
   "id": "fec0bf38-1542-4c1f-8755-462e5b0eb9a7",
   "metadata": {},
   "outputs": [
    {
     "name": "stdout",
     "output_type": "stream",
     "text": [
      "Valor de a = 1\n"
     ]
    },
    {
     "data": {
      "text/plain": [
       "int"
      ]
     },
     "execution_count": 6,
     "metadata": {},
     "output_type": "execute_result"
    }
   ],
   "source": [
    "# Variável inteira \n",
    "a = 1\n",
    "print(\"Valor de a = \"+ str(a))\n",
    "type(a)"
   ]
  },
  {
   "cell_type": "code",
   "execution_count": 7,
   "id": "00b7c2b9-e0fb-47a4-b003-b376a852a40e",
   "metadata": {},
   "outputs": [
    {
     "name": "stdout",
     "output_type": "stream",
     "text": [
      "1.0\n"
     ]
    },
    {
     "data": {
      "text/plain": [
       "float"
      ]
     },
     "execution_count": 7,
     "metadata": {},
     "output_type": "execute_result"
    }
   ],
   "source": [
    "# Variável dupla precisão\n",
    "b = 1.0\n",
    "print(b)\n",
    "type(b)"
   ]
  },
  {
   "cell_type": "code",
   "execution_count": 8,
   "id": "522f2e6a-06c4-401c-8c49-d62b87c54cfa",
   "metadata": {},
   "outputs": [
    {
     "name": "stdout",
     "output_type": "stream",
     "text": [
      "1\n"
     ]
    },
    {
     "data": {
      "text/plain": [
       "int"
      ]
     },
     "execution_count": 8,
     "metadata": {},
     "output_type": "execute_result"
    }
   ],
   "source": [
    "# Converter float para int\n",
    "c = int(b)\n",
    "print(c)\n",
    "type(c)"
   ]
  },
  {
   "cell_type": "code",
   "execution_count": 9,
   "id": "5809ae8e-373c-4a70-b905-c52cc1f6372c",
   "metadata": {},
   "outputs": [
    {
     "name": "stdout",
     "output_type": "stream",
     "text": [
      "nan\n"
     ]
    },
    {
     "data": {
      "text/plain": [
       "float"
      ]
     },
     "execution_count": 9,
     "metadata": {},
     "output_type": "execute_result"
    }
   ],
   "source": [
    "# Declarando NaN\n",
    "import numpy as np\n",
    "d = np.nan\n",
    "print(d)\n",
    "type(d)"
   ]
  },
  {
   "cell_type": "code",
   "execution_count": 13,
   "id": "918ac80d-dd87-4234-97a1-478047d0af5b",
   "metadata": {},
   "outputs": [
    {
     "name": "stdout",
     "output_type": "stream",
     "text": [
      "nan\n",
      "nan\n",
      "1.0\n"
     ]
    }
   ],
   "source": [
    "# Operação com NaN\n",
    "e = d*1\n",
    "print(e)\n",
    "e = d+1\n",
    "print(e)\n",
    "e = np.nansum([d,1])\n",
    "print(e)"
   ]
  },
  {
   "cell_type": "markdown",
   "id": "b0b8c87a-5316-4b65-8c39-f26fa7e1c1f2",
   "metadata": {},
   "source": [
    "## Dados de texto"
   ]
  },
  {
   "cell_type": "code",
   "execution_count": 17,
   "id": "911c636d-1ed1-41ba-ac30-d1f1ec217501",
   "metadata": {},
   "outputs": [
    {
     "name": "stdout",
     "output_type": "stream",
     "text": [
      "Fabio\n",
      "Gabriel\n",
      "FabioGabriel\n",
      "Fabio Gabriel\n"
     ]
    }
   ],
   "source": [
    "# Declaração de variável de texto\n",
    "f = 'Fabio'\n",
    "g = \"Gabriel\"\n",
    "print(f)\n",
    "print(g)\n",
    "print(f+g)\n",
    "print(f+' '+g)"
   ]
  },
  {
   "cell_type": "markdown",
   "id": "0ffc9c16-20d6-47f3-a579-ac28d69214a0",
   "metadata": {},
   "source": [
    "## Dados tipo bool - lógica"
   ]
  },
  {
   "cell_type": "code",
   "execution_count": 18,
   "id": "b8581ccf-814d-4c7d-bc8a-43a663a8c9d9",
   "metadata": {},
   "outputs": [
    {
     "data": {
      "text/plain": [
       "True"
      ]
     },
     "execution_count": 18,
     "metadata": {},
     "output_type": "execute_result"
    }
   ],
   "source": [
    "a == 1"
   ]
  },
  {
   "cell_type": "code",
   "execution_count": 19,
   "id": "2d7e2eef-7f92-46a6-b232-8aa5f6a8708f",
   "metadata": {},
   "outputs": [
    {
     "name": "stdout",
     "output_type": "stream",
     "text": [
      "True\n"
     ]
    },
    {
     "data": {
      "text/plain": [
       "bool"
      ]
     },
     "execution_count": 19,
     "metadata": {},
     "output_type": "execute_result"
    }
   ],
   "source": [
    "h = (a==1)\n",
    "print(h)\n",
    "type(h)"
   ]
  },
  {
   "cell_type": "code",
   "execution_count": 20,
   "id": "068347a1-2167-4fea-b430-1d91b23ab173",
   "metadata": {},
   "outputs": [
    {
     "name": "stdout",
     "output_type": "stream",
     "text": [
      "False\n"
     ]
    },
    {
     "data": {
      "text/plain": [
       "bool"
      ]
     },
     "execution_count": 20,
     "metadata": {},
     "output_type": "execute_result"
    }
   ],
   "source": [
    "h = (a==2)\n",
    "print(h)\n",
    "type(h)"
   ]
  },
  {
   "cell_type": "code",
   "execution_count": 23,
   "id": "cfa9119d-fe00-4107-8e1c-6053aa5c7d2c",
   "metadata": {},
   "outputs": [
    {
     "data": {
      "text/plain": [
       "bool"
      ]
     },
     "execution_count": 23,
     "metadata": {},
     "output_type": "execute_result"
    }
   ],
   "source": [
    "i = True\n",
    "type(i)"
   ]
  },
  {
   "cell_type": "code",
   "execution_count": 24,
   "id": "f0fabcd5-186c-4134-b1e9-85d3846d3bec",
   "metadata": {},
   "outputs": [
    {
     "data": {
      "text/plain": [
       "str"
      ]
     },
     "execution_count": 24,
     "metadata": {},
     "output_type": "execute_result"
    }
   ],
   "source": [
    "ii = \"true\"\n",
    "type(ii)"
   ]
  },
  {
   "cell_type": "code",
   "execution_count": 30,
   "id": "ad5dc4d0-411c-4e9d-909d-829656d011a3",
   "metadata": {},
   "outputs": [
    {
     "data": {
      "text/plain": [
       "True"
      ]
     },
     "execution_count": 30,
     "metadata": {},
     "output_type": "execute_result"
    }
   ],
   "source": [
    "# Operação ==\n",
    "a==b"
   ]
  },
  {
   "cell_type": "code",
   "execution_count": 27,
   "id": "1ae6d8ba-38e1-4e96-bd73-83788f43cafe",
   "metadata": {},
   "outputs": [
    {
     "data": {
      "text/plain": [
       "False"
      ]
     },
     "execution_count": 27,
     "metadata": {},
     "output_type": "execute_result"
    }
   ],
   "source": [
    "# Operação !=\n",
    "a!=b"
   ]
  },
  {
   "cell_type": "code",
   "execution_count": 28,
   "id": "2d957d91-208d-4982-b191-9ea3f62c02e8",
   "metadata": {},
   "outputs": [
    {
     "data": {
      "text/plain": [
       "False"
      ]
     },
     "execution_count": 28,
     "metadata": {},
     "output_type": "execute_result"
    }
   ],
   "source": [
    "# Operação <>\n",
    "a>b"
   ]
  },
  {
   "cell_type": "code",
   "execution_count": 29,
   "id": "f7bd095b-9578-49ba-8f9a-f725bca797e6",
   "metadata": {},
   "outputs": [
    {
     "data": {
      "text/plain": [
       "True"
      ]
     },
     "execution_count": 29,
     "metadata": {},
     "output_type": "execute_result"
    }
   ],
   "source": [
    "# Operação <= ou >=\n",
    "a<=b"
   ]
  },
  {
   "cell_type": "markdown",
   "id": "3433705e-0247-471a-b020-6664b5c996ab",
   "metadata": {},
   "source": [
    "# Operações matemáticas"
   ]
  },
  {
   "cell_type": "code",
   "execution_count": 32,
   "id": "80583fd7-d5ef-426a-8ad7-d3f12577f71c",
   "metadata": {},
   "outputs": [
    {
     "data": {
      "text/plain": [
       "2.0"
      ]
     },
     "execution_count": 32,
     "metadata": {},
     "output_type": "execute_result"
    }
   ],
   "source": [
    "# Soma\n",
    "a+b"
   ]
  },
  {
   "cell_type": "code",
   "execution_count": 33,
   "id": "175b1071-372d-435e-a931-4e07c01d2514",
   "metadata": {},
   "outputs": [
    {
     "name": "stdout",
     "output_type": "stream",
     "text": [
      "2.0\n"
     ]
    }
   ],
   "source": [
    "ab = a+b\n",
    "print(ab)"
   ]
  },
  {
   "cell_type": "code",
   "execution_count": 36,
   "id": "38b99f98-94ed-4659-82f4-7c1e91c33209",
   "metadata": {},
   "outputs": [
    {
     "name": "stdout",
     "output_type": "stream",
     "text": [
      "Não usar l como variável (confunde com 1)\n",
      "1.0\n"
     ]
    }
   ],
   "source": [
    "# Multiplicação\n",
    "l = a*b # Não usar l como variável (confunde com 1)\n",
    "print(\"Não usar l como variável (confunde com 1)\")\n",
    "j = a*b\n",
    "print(j)"
   ]
  },
  {
   "cell_type": "code",
   "execution_count": 37,
   "id": "76c870f2-2098-424d-9af6-3d3c6dac6369",
   "metadata": {},
   "outputs": [
    {
     "data": {
      "text/plain": [
       "1.0"
      ]
     },
     "execution_count": 37,
     "metadata": {},
     "output_type": "execute_result"
    }
   ],
   "source": [
    "# Divisão\n",
    "a/b"
   ]
  },
  {
   "cell_type": "code",
   "execution_count": 39,
   "id": "83c8f227-f968-4a6e-8f32-915b59e55e12",
   "metadata": {},
   "outputs": [
    {
     "data": {
      "text/plain": [
       "5"
      ]
     },
     "execution_count": 39,
     "metadata": {},
     "output_type": "execute_result"
    }
   ],
   "source": [
    "# Potência\n",
    "5**a"
   ]
  },
  {
   "cell_type": "code",
   "execution_count": 41,
   "id": "5b7352dc-ff67-4e7f-8412-dea022be6c4f",
   "metadata": {},
   "outputs": [
    {
     "data": {
      "text/plain": [
       "22026.465794806718"
      ]
     },
     "execution_count": 41,
     "metadata": {},
     "output_type": "execute_result"
    }
   ],
   "source": [
    "# Operações matemáticas com a biblioteca math\n",
    "import math\n",
    "\n",
    "math.exp(10)"
   ]
  },
  {
   "cell_type": "code",
   "execution_count": 42,
   "id": "58ba2be0-b9e1-4677-bb9f-6ee17ad34333",
   "metadata": {},
   "outputs": [
    {
     "data": {
      "text/plain": [
       "2.718281828459045"
      ]
     },
     "execution_count": 42,
     "metadata": {},
     "output_type": "execute_result"
    }
   ],
   "source": [
    "math.exp(a)"
   ]
  },
  {
   "cell_type": "code",
   "execution_count": 43,
   "id": "73d0cad4-bb6a-46d6-9c3a-384a1fcae851",
   "metadata": {},
   "outputs": [
    {
     "data": {
      "text/plain": [
       "1.0"
      ]
     },
     "execution_count": 43,
     "metadata": {},
     "output_type": "execute_result"
    }
   ],
   "source": [
    "math.exp(0)"
   ]
  },
  {
   "cell_type": "code",
   "execution_count": 44,
   "id": "3a493406-d71d-4819-bddb-0692eaca8fee",
   "metadata": {},
   "outputs": [
    {
     "data": {
      "text/plain": [
       "0.36787944117144233"
      ]
     },
     "execution_count": 44,
     "metadata": {},
     "output_type": "execute_result"
    }
   ],
   "source": [
    "math.exp(-a)"
   ]
  },
  {
   "cell_type": "code",
   "execution_count": 45,
   "id": "d548d7c1-f482-48e4-9348-29c53c48b0b3",
   "metadata": {},
   "outputs": [
    {
     "data": {
      "text/plain": [
       "2.718281828459045"
      ]
     },
     "execution_count": 45,
     "metadata": {},
     "output_type": "execute_result"
    }
   ],
   "source": [
    "import math as mt\n",
    "mt.exp(c)"
   ]
  },
  {
   "cell_type": "code",
   "execution_count": 46,
   "id": "9c53a23b-c21c-4156-a00d-cfc3dd64b8b3",
   "metadata": {},
   "outputs": [
    {
     "data": {
      "text/plain": [
       "0.0"
      ]
     },
     "execution_count": 46,
     "metadata": {},
     "output_type": "execute_result"
    }
   ],
   "source": [
    "mt.log(c)"
   ]
  },
  {
   "cell_type": "code",
   "execution_count": 47,
   "id": "d5c61a7e-370d-4235-9076-82838c431dd6",
   "metadata": {},
   "outputs": [
    {
     "data": {
      "text/plain": [
       "2.0"
      ]
     },
     "execution_count": 47,
     "metadata": {},
     "output_type": "execute_result"
    }
   ],
   "source": [
    "mt.log10(100)"
   ]
  },
  {
   "cell_type": "code",
   "execution_count": null,
   "id": "611901a0-41be-4b2b-8c30-55592177d825",
   "metadata": {},
   "outputs": [],
   "source": [
    "# Listas"
   ]
  },
  {
   "cell_type": "code",
   "execution_count": 57,
   "id": "afa75a66-b20f-4e15-87a9-e21fa52069f4",
   "metadata": {},
   "outputs": [
    {
     "name": "stdout",
     "output_type": "stream",
     "text": [
      "[1, 2, 3]\n"
     ]
    }
   ],
   "source": [
    "myFirstList = [1,2,3]\n",
    "print(myFirstList)"
   ]
  },
  {
   "cell_type": "code",
   "execution_count": 52,
   "id": "05ef723b-450a-4d61-bb67-34b33709240e",
   "metadata": {},
   "outputs": [
    {
     "name": "stdout",
     "output_type": "stream",
     "text": [
      "1\n",
      "3\n"
     ]
    }
   ],
   "source": [
    "# Acessando valores pelo index\n",
    "print(myFirstList[0])\n",
    "print(myFirstList[2])"
   ]
  },
  {
   "cell_type": "code",
   "execution_count": 53,
   "id": "6f715eb9-c110-424c-9fad-374837c2f593",
   "metadata": {},
   "outputs": [
    {
     "data": {
      "text/plain": [
       "False"
      ]
     },
     "execution_count": 53,
     "metadata": {},
     "output_type": "execute_result"
    }
   ],
   "source": [
    "myFirstList ==a"
   ]
  },
  {
   "cell_type": "code",
   "execution_count": 55,
   "id": "902ba6c4-f540-4501-a9f3-208b010507c1",
   "metadata": {},
   "outputs": [
    {
     "data": {
      "text/plain": [
       "True"
      ]
     },
     "execution_count": 55,
     "metadata": {},
     "output_type": "execute_result"
    }
   ],
   "source": [
    "myFirstList[0]==a"
   ]
  },
  {
   "cell_type": "code",
   "execution_count": 59,
   "id": "2f2acc42-c20b-4807-8dca-08b7c4f214ed",
   "metadata": {},
   "outputs": [
    {
     "name": "stdout",
     "output_type": "stream",
     "text": [
      "[1, 1, 'c']\n"
     ]
    }
   ],
   "source": [
    "mySecList = [1,a,\"c\"]\n",
    "print(mySecList)"
   ]
  },
  {
   "cell_type": "code",
   "execution_count": 60,
   "id": "72f2ce76-06ac-44fb-bf85-940df98c7ff5",
   "metadata": {},
   "outputs": [
    {
     "data": {
      "text/plain": [
       "list"
      ]
     },
     "execution_count": 60,
     "metadata": {},
     "output_type": "execute_result"
    }
   ],
   "source": [
    "type(mySecList)"
   ]
  },
  {
   "cell_type": "code",
   "execution_count": 61,
   "id": "ea888bbe-61b0-42cc-abc9-a974663ba478",
   "metadata": {},
   "outputs": [
    {
     "data": {
      "text/plain": [
       "int"
      ]
     },
     "execution_count": 61,
     "metadata": {},
     "output_type": "execute_result"
    }
   ],
   "source": [
    "type(mySecList[0])"
   ]
  },
  {
   "cell_type": "code",
   "execution_count": 62,
   "id": "9001360b-3b4a-44ff-93de-5ec95646a158",
   "metadata": {},
   "outputs": [
    {
     "data": {
      "text/plain": [
       "int"
      ]
     },
     "execution_count": 62,
     "metadata": {},
     "output_type": "execute_result"
    }
   ],
   "source": [
    "type(mySecList[1])"
   ]
  },
  {
   "cell_type": "code",
   "execution_count": 63,
   "id": "c07570a2-a6ae-4f77-85b8-3d96b3611b35",
   "metadata": {},
   "outputs": [
    {
     "data": {
      "text/plain": [
       "str"
      ]
     },
     "execution_count": 63,
     "metadata": {},
     "output_type": "execute_result"
    }
   ],
   "source": [
    "type(mySecList[2])"
   ]
  },
  {
   "cell_type": "markdown",
   "id": "7275a496-00da-42a0-a8ff-e9dfc152339c",
   "metadata": {},
   "source": [
    "## Caminhos - path"
   ]
  },
  {
   "cell_type": "code",
   "execution_count": 66,
   "id": "bcbfb11d-18dc-4a68-875b-edddade4d07c",
   "metadata": {},
   "outputs": [
    {
     "name": "stdout",
     "output_type": "stream",
     "text": [
      "C:\\Users\\Windows 10\\Documents\\Python\\ENS410064-1\n"
     ]
    }
   ],
   "source": [
    "# Colocar r no começo do endereço para mudar as barras ao contrário\n",
    "path = r\"C:\\Users\\Windows 10\\Documents\\Python\\ENS410064-1\"\n",
    "print(path)"
   ]
  },
  {
   "cell_type": "code",
   "execution_count": 67,
   "id": "b73a6f4b-5711-430e-9b61-9a679e7f08ec",
   "metadata": {},
   "outputs": [
    {
     "name": "stdout",
     "output_type": "stream",
     "text": [
      "C:/Users/Windows 10/Documents/Python/ENS410064-1\n"
     ]
    }
   ],
   "source": [
    "path = \"C:/Users/Windows 10/Documents/Python/ENS410064-1\"\n",
    "print(path)"
   ]
  },
  {
   "cell_type": "code",
   "execution_count": 68,
   "id": "a475a25b-3ddc-4235-bdf0-b611e31edec3",
   "metadata": {},
   "outputs": [
    {
     "data": {
      "text/plain": [
       "['.git',\n",
       " '.gitignore',\n",
       " 'Aula_01.ipynb',\n",
       " 'dados',\n",
       " 'pyenv',\n",
       " 'README.md',\n",
       " 'scripts']"
      ]
     },
     "execution_count": 68,
     "metadata": {},
     "output_type": "execute_result"
    }
   ],
   "source": [
    "import os\n",
    "os.listdir(path)"
   ]
  },
  {
   "cell_type": "code",
   "execution_count": 69,
   "id": "6649fd32-6d91-4629-ac31-e813e6a59dd3",
   "metadata": {},
   "outputs": [
    {
     "data": {
      "text/plain": [
       "'.git'"
      ]
     },
     "execution_count": 69,
     "metadata": {},
     "output_type": "execute_result"
    }
   ],
   "source": [
    "os.listdir(path)[0]"
   ]
  },
  {
   "cell_type": "code",
   "execution_count": 70,
   "id": "de3448c8-0bd0-4d76-bf40-0a987681eab8",
   "metadata": {},
   "outputs": [
    {
     "data": {
      "text/plain": [
       "'C:/Users/Windows 10/Documents/Python/ENS410064-1/.git'"
      ]
     },
     "execution_count": 70,
     "metadata": {},
     "output_type": "execute_result"
    }
   ],
   "source": [
    "path+\"/\"+os.listdir(path)[0]"
   ]
  },
  {
   "cell_type": "code",
   "execution_count": 71,
   "id": "36e3b5f7-5014-492c-801d-fe9a0dcde789",
   "metadata": {},
   "outputs": [
    {
     "data": {
      "text/plain": [
       "['COMMIT_EDITMSG',\n",
       " 'config',\n",
       " 'description',\n",
       " 'FETCH_HEAD',\n",
       " 'HEAD',\n",
       " 'hooks',\n",
       " 'index',\n",
       " 'info',\n",
       " 'logs',\n",
       " 'objects',\n",
       " 'packed-refs',\n",
       " 'refs']"
      ]
     },
     "execution_count": 71,
     "metadata": {},
     "output_type": "execute_result"
    }
   ],
   "source": [
    "os.listdir(path+\"/\"+os.listdir(path)[0])"
   ]
  },
  {
   "cell_type": "code",
   "execution_count": 74,
   "id": "f9f5b353-4580-4267-bd3c-39a1ecdc1a51",
   "metadata": {},
   "outputs": [
    {
     "data": {
      "text/plain": [
       "'C:\\\\Users\\\\Windows 10\\\\Documents\\\\Python\\\\ENS410064-1\\\\pyenv\\\\Scripts'"
      ]
     },
     "execution_count": 74,
     "metadata": {},
     "output_type": "execute_result"
    }
   ],
   "source": [
    "os.getcwd()"
   ]
  },
  {
   "cell_type": "code",
   "execution_count": 75,
   "id": "3c9cc730-2730-4a82-9024-5a5c7706f37b",
   "metadata": {},
   "outputs": [],
   "source": [
    "os.chdir('C:\\\\Users\\\\Windows 10\\\\Documents\\\\Python\\\\ENS410064-1\\\\')"
   ]
  },
  {
   "cell_type": "code",
   "execution_count": 76,
   "id": "61c318fd-7ac3-4116-ab23-4f913ef7e3ac",
   "metadata": {},
   "outputs": [
    {
     "data": {
      "text/plain": [
       "'C:\\\\Users\\\\Windows 10\\\\Documents\\\\Python\\\\ENS410064-1'"
      ]
     },
     "execution_count": 76,
     "metadata": {},
     "output_type": "execute_result"
    }
   ],
   "source": [
    "os.getcwd()"
   ]
  },
  {
   "cell_type": "code",
   "execution_count": 96,
   "id": "a39b4250-b3ed-409f-8ee7-f1f66433bf0d",
   "metadata": {},
   "outputs": [],
   "source": [
    "new_path = os.mkdir(os.getcwd()+\"/test2\")"
   ]
  },
  {
   "cell_type": "markdown",
   "id": "be3b957e-c6e0-4339-9129-6ce12fe0f587",
   "metadata": {},
   "source": [
    "# Numpy arrays e Pandas DataFrames"
   ]
  },
  {
   "cell_type": "code",
   "execution_count": 98,
   "id": "ab5602fc-34c2-4aca-91d8-eb71bab406a4",
   "metadata": {},
   "outputs": [
    {
     "data": {
      "text/plain": [
       "numpy.ndarray"
      ]
     },
     "execution_count": 98,
     "metadata": {},
     "output_type": "execute_result"
    }
   ],
   "source": [
    "import numpy as np\n",
    "#Criando uma variável numpy\n",
    "n = np.array(0)\n",
    "type(n)"
   ]
  },
  {
   "cell_type": "code",
   "execution_count": 99,
   "id": "43284c79-c4b7-418e-9833-14c3dc308de3",
   "metadata": {},
   "outputs": [
    {
     "name": "stdout",
     "output_type": "stream",
     "text": [
      "[ 1  2  3 10 20 55]\n"
     ]
    }
   ],
   "source": [
    "#Criando numpy a partir de uma lista\n",
    "myTList=[1,2,3,10,20,55]\n",
    "n = np.array(myTList)\n",
    "print(n)"
   ]
  },
  {
   "cell_type": "code",
   "execution_count": 103,
   "id": "ac9635af-af92-4f22-af71-db287434cf7b",
   "metadata": {},
   "outputs": [
    {
     "name": "stdout",
     "output_type": "stream",
     "text": [
      "[[0.62137495 0.70272196 0.76867123 0.25288362 0.56901069 0.61690585\n",
      "  0.21700757 0.57988303 0.61030666 0.5712625 ]\n",
      " [0.8668994  0.18881402 0.6597864  0.00858279 0.12805896 0.63065213\n",
      "  0.22146384 0.54300827 0.95270479 0.26265618]\n",
      " [0.49898961 0.16950324 0.21533072 0.95596801 0.47040742 0.69632507\n",
      "  0.459437   0.12959882 0.21099468 0.26215585]\n",
      " [0.08503985 0.62087394 0.35050406 0.06501695 0.86189742 0.52730941\n",
      "  0.40903656 0.02524781 0.79680729 0.89311406]\n",
      " [0.76920111 0.62654455 0.6656911  0.17302501 0.74825168 0.47710097\n",
      "  0.090085   0.00918012 0.67520018 0.69408093]\n",
      " [0.98089763 0.71661262 0.92410315 0.65537368 0.84902227 0.04056415\n",
      "  0.54774559 0.18244347 0.13236373 0.35043987]\n",
      " [0.4403856  0.67488721 0.48966412 0.31962493 0.63839675 0.47724072\n",
      "  0.22852576 0.27850669 0.2181804  0.92998527]\n",
      " [0.52735171 0.82305739 0.21881523 0.37787544 0.06120845 0.99869486\n",
      "  0.09197219 0.34665655 0.14935013 0.86758825]\n",
      " [0.45718914 0.34217891 0.56306966 0.10173557 0.04870361 0.57125114\n",
      "  0.32528082 0.02423358 0.06296846 0.55222716]\n",
      " [0.13531169 0.24866836 0.57995679 0.04836186 0.26978827 0.22516986\n",
      "  0.39725079 0.00156625 0.36659572 0.91593046]]\n",
      "(10, 10)\n"
     ]
    }
   ],
   "source": [
    "# Criando uma matrix de 10x10 de números aleatórios entre 0 e 1\n",
    "n = np.random.rand(10,10)\n",
    "print(n)\n",
    "# Dimensões da matriz\n",
    "print(n.shape)"
   ]
  },
  {
   "cell_type": "code",
   "execution_count": 105,
   "id": "962b8234-f784-40f3-8783-3d3f9aec93d6",
   "metadata": {},
   "outputs": [
    {
     "data": {
      "text/plain": [
       "array([0.62137495, 0.70272196, 0.76867123, 0.25288362, 0.56901069,\n",
       "       0.61690585, 0.21700757, 0.57988303, 0.61030666, 0.5712625 ])"
      ]
     },
     "execution_count": 105,
     "metadata": {},
     "output_type": "execute_result"
    }
   ],
   "source": [
    "# Acessando valores da matriz\n",
    "n[0]"
   ]
  },
  {
   "cell_type": "code",
   "execution_count": 106,
   "id": "6a89591d-d408-4c26-98d8-9727b76b86e2",
   "metadata": {},
   "outputs": [
    {
     "data": {
      "text/plain": [
       "0.1280589649270064"
      ]
     },
     "execution_count": 106,
     "metadata": {},
     "output_type": "execute_result"
    }
   ],
   "source": [
    "n[1,4]"
   ]
  },
  {
   "cell_type": "code",
   "execution_count": 107,
   "id": "341c3702-06a6-4502-8906-878623a0e3de",
   "metadata": {},
   "outputs": [
    {
     "data": {
      "text/plain": [
       "array([0.62137495, 0.8668994 , 0.49898961, 0.08503985, 0.76920111,\n",
       "       0.98089763, 0.4403856 , 0.52735171, 0.45718914, 0.13531169])"
      ]
     },
     "execution_count": 107,
     "metadata": {},
     "output_type": "execute_result"
    }
   ],
   "source": [
    "n[:,0]"
   ]
  },
  {
   "cell_type": "code",
   "execution_count": 108,
   "id": "05636540-adce-4e37-b8ae-a6e1d75b37e9",
   "metadata": {},
   "outputs": [
    {
     "data": {
      "text/plain": [
       "array([0.62137495, 0.70272196, 0.76867123, 0.25288362, 0.56901069,\n",
       "       0.61690585, 0.21700757, 0.57988303, 0.61030666, 0.5712625 ])"
      ]
     },
     "execution_count": 108,
     "metadata": {},
     "output_type": "execute_result"
    }
   ],
   "source": [
    "n[0,:]"
   ]
  },
  {
   "cell_type": "code",
   "execution_count": 110,
   "id": "c6182a57-3d53-408b-8554-7c3e81ea5066",
   "metadata": {},
   "outputs": [
    {
     "data": {
      "text/plain": [
       "array([[0.70272196, 0.76867123, 0.25288362, 0.56901069],\n",
       "       [0.18881402, 0.6597864 , 0.00858279, 0.12805896],\n",
       "       [0.16950324, 0.21533072, 0.95596801, 0.47040742],\n",
       "       [0.62087394, 0.35050406, 0.06501695, 0.86189742],\n",
       "       [0.62654455, 0.6656911 , 0.17302501, 0.74825168],\n",
       "       [0.71661262, 0.92410315, 0.65537368, 0.84902227],\n",
       "       [0.67488721, 0.48966412, 0.31962493, 0.63839675],\n",
       "       [0.82305739, 0.21881523, 0.37787544, 0.06120845],\n",
       "       [0.34217891, 0.56306966, 0.10173557, 0.04870361],\n",
       "       [0.24866836, 0.57995679, 0.04836186, 0.26978827]])"
      ]
     },
     "execution_count": 110,
     "metadata": {},
     "output_type": "execute_result"
    }
   ],
   "source": [
    "n[:,1:5]"
   ]
  },
  {
   "cell_type": "code",
   "execution_count": 111,
   "id": "ddb11581-d71e-4b32-a776-7af084a264b9",
   "metadata": {},
   "outputs": [
    {
     "data": {
      "text/plain": [
       "array([0.18881402, 0.6597864 , 0.00858279, 0.12805896])"
      ]
     },
     "execution_count": 111,
     "metadata": {},
     "output_type": "execute_result"
    }
   ],
   "source": [
    "n[1,1:5]"
   ]
  },
  {
   "cell_type": "code",
   "execution_count": 112,
   "id": "9fa724d5-0c93-4cb7-8a82-99f5bab5453e",
   "metadata": {},
   "outputs": [
    {
     "data": {
      "text/plain": [
       "0.5712625013968178"
      ]
     },
     "execution_count": 112,
     "metadata": {},
     "output_type": "execute_result"
    }
   ],
   "source": [
    "# Ultimo valor = -1\n",
    "n[0,-1]"
   ]
  },
  {
   "cell_type": "code",
   "execution_count": 113,
   "id": "affb92e1-7d69-49f8-828a-4367a91bf4ce",
   "metadata": {},
   "outputs": [
    {
     "data": {
      "text/plain": [
       "array([0.56901069, 0.61690585, 0.21700757, 0.57988303, 0.61030666])"
      ]
     },
     "execution_count": 113,
     "metadata": {},
     "output_type": "execute_result"
    }
   ],
   "source": [
    "# Vai da 4 ATÉ a última\n",
    "n[0,4:-1]"
   ]
  },
  {
   "cell_type": "code",
   "execution_count": 114,
   "id": "1656117b-504a-4963-bf0b-284dedc30c2a",
   "metadata": {},
   "outputs": [
    {
     "data": {
      "text/plain": [
       "array([0.56901069, 0.61690585, 0.21700757, 0.57988303, 0.61030666,\n",
       "       0.5712625 ])"
      ]
     },
     "execution_count": 114,
     "metadata": {},
     "output_type": "execute_result"
    }
   ],
   "source": [
    "# Vai da 4 a última\n",
    "n[0,4:]"
   ]
  },
  {
   "cell_type": "code",
   "execution_count": 115,
   "id": "d12ae3a1-47f4-4b83-a11e-14e6a384d570",
   "metadata": {},
   "outputs": [
    {
     "name": "stdout",
     "output_type": "stream",
     "text": [
      "[[-4.75820593e-01 -3.52793967e-01 -2.63091929e-01 -1.37482588e+00\n",
      "  -5.63856056e-01 -4.83038859e-01 -1.52782304e+00 -5.44928877e-01\n",
      "  -4.93793732e-01 -5.59906453e-01]\n",
      " [-1.42832344e-01 -1.66699279e+00 -4.15839134e-01 -4.75799661e+00\n",
      "  -2.05526446e+00 -4.61000872e-01 -1.50749597e+00 -6.10630728e-01\n",
      "  -4.84501960e-02 -1.33690941e+00]\n",
      " [-6.95170011e-01 -1.77488325e+00 -1.53558021e+00 -4.50308321e-02\n",
      "  -7.54156102e-01 -3.61938672e-01 -7.77753461e-01 -2.04331162e+00\n",
      "  -1.55592237e+00 -1.33881610e+00]\n",
      " [-2.46463532e+00 -4.76627210e-01 -1.04838298e+00 -2.73310725e+00\n",
      "  -1.48619016e-01 -6.39967782e-01 -8.93950732e-01 -3.67901591e+00\n",
      "  -2.27142419e-01 -1.13040981e-01]\n",
      " [-2.62402827e-01 -4.67535404e-01 -4.06929531e-01 -1.75431911e+00\n",
      "  -2.90015891e-01 -7.40027140e-01 -2.40700164e+00 -4.69071489e+00\n",
      "  -3.92746076e-01 -3.65166705e-01]\n",
      " [-1.92871776e-02 -3.33219869e-01 -7.89315746e-02 -4.22549697e-01\n",
      "  -1.63669865e-01 -3.20487065e+00 -6.01944345e-01 -1.70131491e+00\n",
      "  -2.02220159e+00 -1.04856615e+00]\n",
      " [-8.20104582e-01 -3.93209698e-01 -7.14035596e-01 -1.14060706e+00\n",
      "  -4.48795322e-01 -7.39734254e-01 -1.47610636e+00 -1.27831321e+00\n",
      "  -1.52243303e+00 -7.25865265e-02]\n",
      " [-6.39887565e-01 -1.94729351e-01 -1.51952761e+00 -9.73190670e-01\n",
      "  -2.79347005e+00 -1.30598947e-03 -2.38626903e+00 -1.05942075e+00\n",
      "  -1.90146187e+00 -1.42038042e-01]\n",
      " [-7.82658095e-01 -1.07242156e+00 -5.74351930e-01 -2.28537829e+00\n",
      "  -3.02200221e+00 -5.59926340e-01 -1.12306641e+00 -3.72001580e+00\n",
      "  -2.76512133e+00 -5.93795801e-01]\n",
      " [-2.00017435e+00 -1.39163515e+00 -5.44801672e-01 -3.02904380e+00\n",
      "  -1.31011780e+00 -1.49090021e+00 -9.23187473e-01 -6.45907365e+00\n",
      "  -1.00349563e+00 -8.78148356e-02]]\n"
     ]
    }
   ],
   "source": [
    "an = np.log(n)\n",
    "print(an)"
   ]
  },
  {
   "cell_type": "code",
   "execution_count": null,
   "id": "783b417a-cb6d-4842-8927-4617b04463b5",
   "metadata": {},
   "outputs": [],
   "source": []
  }
 ],
 "metadata": {
  "kernelspec": {
   "display_name": "Python 3 (ipykernel)",
   "language": "python",
   "name": "python3"
  },
  "language_info": {
   "codemirror_mode": {
    "name": "ipython",
    "version": 3
   },
   "file_extension": ".py",
   "mimetype": "text/x-python",
   "name": "python",
   "nbconvert_exporter": "python",
   "pygments_lexer": "ipython3",
   "version": "3.11.5"
  }
 },
 "nbformat": 4,
 "nbformat_minor": 5
}
